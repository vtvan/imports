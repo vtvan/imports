{
 "cells": [
  {
   "cell_type": "code",
   "execution_count": 1,
   "id": "2640b62a",
   "metadata": {},
   "outputs": [
    {
     "data": {
      "application/javascript": "// Define a global color variable\nconst mainColor = '#d4b55f';    // '#f0bc29';\n\n// Apply the color globally using CSS\ndocument.documentElement.style.setProperty('--main-color', mainColor);\n\n// Set output text color\ndocument.styleSheets[0].insertRule('body { color: var(--main-color) !important; }', 0);\n",
      "text/plain": [
       "<IPython.core.display.Javascript object>"
      ]
     },
     "metadata": {},
     "output_type": "display_data"
    }
   ],
   "source": [
    "%%javascript\n",
    "// Define a global color variable\n",
    "const mainColor = '#d4b55f';    // '#f0bc29';\n",
    "\n",
    "// Apply the color globally using CSS\n",
    "document.documentElement.style.setProperty('--main-color', mainColor);\n",
    "\n",
    "// Set output text color\n",
    "document.styleSheets[0].insertRule('body { color: var(--main-color) !important; }', 0);\n"
   ]
  },
  {
   "cell_type": "code",
   "execution_count": 2,
   "id": "f5814a26",
   "metadata": {},
   "outputs": [
    {
     "name": "stdout",
     "output_type": "stream",
     "text": [
      "Scribo, ergo sum.\n",
      "Sum, ergo scribo.\n"
     ]
    }
   ],
   "source": [
    "print('Scribo, ergo sum.')   # 我code故我在\n",
    "print('Sum, ergo scribo.')   # 我在故我code"
   ]
  },
  {
   "cell_type": "markdown",
   "id": "54fa59c4",
   "metadata": {},
   "source": [
    "<!-- <br><br>\n",
    "<div style=\"font-family: 'Gen Jyuu Gothic Monospace Medium', 'Noto Sans TC', 'Inconsolata';  font-size: 400%; font-weight: 800; text-align: center; color: var(--main-color);\">\n",
    "Understanding Python's `import` System\n",
    "</div>\n",
    "<br>\n",
    "<div style=\"font-size: 280%; color: #5f7ed4; text-align: center; font-weight: 700;\">\n",
    "Concepts, Patterns, and Pitfalls\n",
    "</div>\n",
    "<br> -->"
   ]
  },
  {
   "cell_type": "markdown",
   "id": "23700c67",
   "metadata": {},
   "source": [
    "<div style=\"text-align:center\"><img src=\"./images/Understanding Python&apos;s Import System-cropped-modified.png\" width=\"950\"/></div>\n",
    "<div style=\"font-size: 320%; color: #5f7ed4; text-align: center; font-weight: 700;\">\n",
    "Concepts, Patterns, and Pitfalls\n",
    "</div>\n",
    "<br><br><br><br><br><br><br><br>"
   ]
  },
  {
   "cell_type": "markdown",
   "id": "6af6dac8",
   "metadata": {},
   "source": [
    "<div style=\"font-size: 220%; color: Pink; font-weight: 600;\">📘 1. Basic Concepts of `import`</div> \n",
    "\n",
    "<div style=\"font-family: 'Inconsolata', 'Noto Sans TC'; font-size: 125%; color: DAE8E8; font-weight: 400; line-height: 130%\"><br>\n",
    "\n",
    "* The `import` statement allows you to bring **external Python code** into your current module or script. This supports **modularity**, **code reuse**, and **project organization**.\n",
    "* Each `import` makes the imported module available as a **namespace object**.\n"
   ]
  },
  {
   "cell_type": "markdown",
   "id": "a91f8f9e",
   "metadata": {},
   "source": [
    "<div style=\"font-size: 160%; color: #7EDCC3; font-weight: 600;\">🐍 Syntax Variants</div>\n",
    "<!-- 🐍 -->\n"
   ]
  },
  {
   "cell_type": "code",
   "execution_count": null,
   "id": "84a2f440",
   "metadata": {},
   "outputs": [],
   "source": [
    "import math\n",
    "import xx.yy.os.path\n",
    "import mypackage.mymodule\n",
    "\n",
    "from ... import ..."
   ]
  },
  {
   "cell_type": "markdown",
   "id": "8c532b3d",
   "metadata": {},
   "source": [
    "\n",
    "<div style=\"font-size: 220%; color: Pink; font-weight: 600;\">📦 2. Modules vs. Packages</div> \n",
    "\n",
    "<div style=\"font-family: 'Inconsolata', 'Noto Sans TC'; font-size: 125%; color: DAE8E8; font-weight: 400; line-height: 130%\"><br>\n",
    "\n",
    "| Concept  | Module                              | Package                            |\n",
    "|----------|-------------------------------------|------------------------------------|\n",
    "| Definition | A single `.py` file                  | A directory with an `__init__.py` file |\n",
    "| Example  | `math.py`                            | `mypackage/` with `__init__.py`     |\n",
    "| Use      | Functional unit                      | Logical container for multiple modules |\n",
    "| Import   | `import math`                        | `import mypackage.module_x`        |\n"
   ]
  },
  {
   "cell_type": "code",
   "execution_count": 3,
   "id": "8e90b1ae",
   "metadata": {},
   "outputs": [
    {
     "name": "stdout",
     "output_type": "stream",
     "text": [
      "self.name='Oliver'\tself.age=33\n",
      "Hello, world\n",
      "function client_information\n",
      "Alex\n"
     ]
    }
   ],
   "source": [
    "import clients.abcd   # module (abcd.py, namespace)\n",
    "\n",
    "client1 = clients.abcd.ClientInformation()   # create a ClientInformation object\n",
    "client1.show_client_info()\n",
    "client1.greet()\n",
    "clients.abcd.client_information()  # call client_information() function\n",
    "print(clients.abcd.client_name)"
   ]
  },
  {
   "cell_type": "code",
   "execution_count": null,
   "id": "1a6371f5",
   "metadata": {},
   "outputs": [],
   "source": [
    "from clients.abcd import ClientInformation  # class\n",
    "from clients.abcd import client_information  # function\n",
    "from clients.abcd import client_name   # variable (object)\n",
    "from clients.abcd import xyz       # ?\n",
    "\n",
    "ClientInformation().show_client_info()\n",
    "\n",
    "client_information()\n",
    "\n",
    "client_name\n",
    "\n",
    "xyz\n"
   ]
  },
  {
   "cell_type": "markdown",
   "id": "e6bc2d37",
   "metadata": {},
   "source": [
    "<div style=\"font-size: 220%; color: Pink; font-weight: 600;\">✨ 3. Special and Interesting Imports</div> \n",
    " \n",
    "<div style=\"font-family: 'Inconsolata', 'Noto Sans TC'; font-size: 125%; color: DAE8E8; font-weight: 400; line-height: 130%\"><br>\n",
    "\n",
    "* Python includes some delightful surprises:\n"
   ]
  },
  {
   "cell_type": "markdown",
   "id": "9a239b53",
   "metadata": {},
   "source": [
    "<div style=\"font-size: 160%; color: #7EDCC3; font-weight: 600;\">🔤 `import this`</div>\n",
    "\n",
    "<div style=\"font-family: 'Inconsolata', 'Noto Sans TC'; font-size: 125%; color: DAE8E8; font-weight: 400; line-height: 130%\"><br>\n",
    "\n",
    "* 📜 Displays the **Zen of Python** — guiding principles for Pythonic code design.\n"
   ]
  },
  {
   "cell_type": "code",
   "execution_count": null,
   "id": "41c415a4",
   "metadata": {},
   "outputs": [],
   "source": [
    "import this"
   ]
  },
  {
   "cell_type": "markdown",
   "id": "1c790387",
   "metadata": {},
   "source": [
    "<div style=\"font-size: 160%; color: #7EDCC3; font-weight: 600;\">🎲 `import antigravity`</div>\n",
    "\n",
    "\n",
    "<div style=\"font-family: 'Inconsolata', 'Noto Sans TC'; font-size: 125%; color: DAE8E8; font-weight: 400; line-height: 130%\"><br>\n",
    "\n",
    "* Launches a comic strip in your browser. It’s a humorous Easter egg, referencing [xkcd 353](https://xkcd.com/353/)."
   ]
  },
  {
   "cell_type": "code",
   "execution_count": null,
   "id": "86003fb7",
   "metadata": {},
   "outputs": [],
   "source": [
    "import antigravity"
   ]
  },
  {
   "cell_type": "markdown",
   "id": "c3f97eee",
   "metadata": {},
   "source": [
    "<div style=\"font-size: 220%; color: Pink; font-weight: 600;\">🔍 4. `import ...` vs. `from ... import ...`</div>\n"
   ]
  },
  {
   "cell_type": "markdown",
   "id": "82f6d9fc",
   "metadata": {},
   "source": [
    "<br>\n",
    "<div style=\"font-size: 160%; color: #7EDCC3; font-weight: 600;\">A. `import ...`</div>\n",
    "\n",
    "\n",
    "<div style=\"font-family: 'Inconsolata', 'Noto Sans TC'; font-size: 125%; color: DAE8E8; font-weight: 400; line-height: 130%\"><br>\n",
    "\n",
    "- Brings the entire module as a **namespace**.\n",
    "- Prevents name collisions.\n",
    "</div>"
   ]
  },
  {
   "cell_type": "code",
   "execution_count": null,
   "id": "f9176752",
   "metadata": {},
   "outputs": [],
   "source": [
    "import math\n",
    "print(math.sqrt(16))  # Access via qualified name"
   ]
  },
  {
   "cell_type": "markdown",
   "id": "45297c3f",
   "metadata": {},
   "source": [
    "<div style=\"font-size: 160%; color: #7EDCC3; font-weight: 600;\">B. `from ... import ...`</div>\n",
    "\n",
    "<div style=\"font-family: 'Inconsolata', 'Noto Sans TC'; font-size: 125%; color: DAE8E8; font-weight: 400; line-height: 130%\"><br>\n",
    "\n",
    "- Brings selected names into the current namespace.\n",
    "- Easier to read when only a few members are used.\n",
    "\n"
   ]
  },
  {
   "cell_type": "code",
   "execution_count": null,
   "id": "795703e0",
   "metadata": {},
   "outputs": [],
   "source": [
    "from math import sqrt\n",
    "print(sqrt(16))  # Direct access"
   ]
  },
  {
   "cell_type": "markdown",
   "id": "f017f8b9",
   "metadata": {},
   "source": [
    "<div style=\"font-size: 160%; color: #7EDCC3; font-weight: 600;\">C. `from ... import *` ❌</div>\n",
    "\n",
    "<div style=\"font-family: 'Inconsolata', 'Noto Sans TC'; font-size: 125%; color: DAE8E8; font-weight: 400; line-height: 130%\"><br>\n",
    "\n",
    "- **Avoid this in production.**\n",
    "- Pollutes the namespace and risks **name clashes**.\n",
    "- Allowed only at the **module level**, not inside functions.\n",
    "\n"
   ]
  },
  {
   "cell_type": "code",
   "execution_count": null,
   "id": "4b7a43c4",
   "metadata": {},
   "outputs": [],
   "source": [
    "from math import *\n"
   ]
  },
  {
   "cell_type": "markdown",
   "id": "2a1c612b",
   "metadata": {},
   "source": [
    "## 🧾 9. Facts about Multi-level Imports and Attribute Imports\n",
    "\n",
    "### 🧾 A. Structure of `import xx.yy.xyz`\n",
    "\n",
    "When using a dotted import path like:\n",
    "\n",
    "```python\n",
    "import xx.yy.xyz\n",
    "```\n",
    "\n",
    "The components are interpreted as follows:\n",
    "\n",
    "- `xx` and `yy` must be **packages**, each represented by a directory containing an `__init__.py` file (or, since Python 3.3, an implicit namespace package).\n",
    "- The final component `xyz` may be either:\n",
    "  - a **module** (`xyz.py`) within the `yy` package, or\n",
    "  - a **sub-package** (`xyz/` directory with `__init__.py`) inside `yy`.\n",
    "\n",
    "This form of import loads the `xyz` object (module or package) and binds it in the current namespace as `xx.yy.xyz`.\n",
    "\n",
    "---\n",
    "\n",
    "### 🧾 B. Structure of `from xx.yy.xyz import aa, bb`\n",
    "\n",
    "In this form:\n",
    "\n",
    "```python\n",
    "from xx.yy.xyz import aa, bb\n",
    "```\n",
    "\n",
    "- Python first imports the module or package `xx.yy.xyz`.\n",
    "- Then it retrieves the **attributes** `aa` and `bb` from that object using `getattr()`.\n",
    "\n",
    "These attributes can be:\n",
    "- Classes, functions, or variables defined directly in `xyz`.\n",
    "- Submodules or subpackages of `xyz`, if they are explicitly exposed (e.g., by importing them in `xyz/__init__.py` or defined as files/subdirectories).\n",
    "\n",
    "Thus, any **valid attribute** of the imported module or package may be imported this way.\n"
   ]
  },
  {
   "cell_type": "markdown",
   "id": "8230ab3e",
   "metadata": {},
   "source": [
    "<div style=\"font-size: 160%; color: #7EDCC3; font-weight: 600;\">⚠️ Common Misconception #1</div>\n",
    "\n",
    "> In `import xx.yy.xyz`, both `xx` and `yy` must be packages, while `xyz` must be a module. There is no exception.\n",
    "\n",
    "\n",
    "<div style=\"font-family: 'Inconsolata', 'Noto Sans TC'; font-size: 125%; color: DAE8E8; font-weight: 400; line-height: 130%\"><br>\n",
    "\n",
    "* ✅ **Corrected Understanding**:\n",
    "  - `xx` and `yy` **must be packages**.\n",
    "  - `xyz` may be either:\n",
    "    - a **module** (`xyz.py`), or\n",
    "    - a **subpackage** (`xyz/__init__.py`).\n",
    "  - So: `xyz` **does not have to be a module** — it can also be a **package**.\n",
    "\n"
   ]
  },
  {
   "cell_type": "markdown",
   "id": "679509ad",
   "metadata": {},
   "source": [
    "✅ Mostly Correct, but nuanced.\n",
    "Yes, in this syntax:\n",
    "\n",
    "python\n",
    "Copy\n",
    "Edit\n",
    "import xx.yy.xyz\n",
    "Python treats it as a qualified module path. So:\n",
    "\n",
    "xx must be a top-level package (i.e., resolvable in sys.path)\n",
    "\n",
    "yy must be a subpackage of xx (i.e., a directory with __init__.py)\n",
    "\n",
    "xyz must be a module (i.e., a .py file)\n",
    "\n",
    "⚠️ But exceptions exist:\n",
    "If xyz is itself a package, then it can be imported this way, and the import refers to the package object (not necessarily to a .py file):\n",
    "\n"
   ]
  },
  {
   "cell_type": "markdown",
   "id": "8601d5ac",
   "metadata": {},
   "source": [
    "```\n",
    "myproject/\n",
    "├── xx/\n",
    "│   ├── __init__.py\n",
    "│   ├── yy/\n",
    "│   │   ├── __init__.py\n",
    "│   │   └── xyz/\n",
    "│   │       └── __init__.py\n",
    "```"
   ]
  },
  {
   "cell_type": "code",
   "execution_count": null,
   "id": "794c5c8d",
   "metadata": {},
   "outputs": [],
   "source": [
    "import xx.yy.xyz  # 'xyz' is a package, not a module file\n"
   ]
  },
  {
   "cell_type": "markdown",
   "id": "86a03c21",
   "metadata": {},
   "source": [
    "Therefore, xyz may be:\n",
    "\n",
    "A module (xyz.py)\n",
    "\n",
    "A package (xyz/__init__.py)\n",
    "\n",
    "So, to refine your first statement:\n",
    "\n",
    "In import xx.yy.xyz, xx and yy must be packages, and xyz must be either a module or a package. There is no exception to this hierarchy structure, but the final component (xyz) may be a module or a package."
   ]
  },
  {
   "cell_type": "markdown",
   "id": "4b5fbe15",
   "metadata": {},
   "source": [
    "## 🧾 9. Facts about Multi-level Imports and Attribute Imports\n",
    "\n",
    "### 🧾 A. Structure of `import xx.yy.xyz`\n",
    "\n",
    "When using a dotted import path like:\n",
    "\n",
    "```python\n",
    "import xx.yy.xyz\n",
    "```\n",
    "\n",
    "The components are interpreted as follows:\n",
    "\n",
    "- `xx` and `yy` must be **packages**, each represented by a directory containing an `__init__.py` file (or, since Python 3.3, an implicit namespace package).\n",
    "- The final component `xyz` may be either:\n",
    "  - a **module** (`xyz.py`) within the `yy` package, or\n",
    "  - a **sub-package** (`xyz/` directory with `__init__.py`) inside `yy`.\n",
    "\n",
    "This form of import loads the `xyz` object (module or package) and binds it in the current namespace as `xx.yy.xyz`.\n",
    "\n",
    "---\n",
    "\n",
    "### 🧾 B. Structure of `from xx.yy.xyz import aa, bb`\n",
    "\n",
    "In this form:\n",
    "\n",
    "```python\n",
    "from xx.yy.xyz import aa, bb\n",
    "```\n",
    "\n",
    "- Python first imports the module or package `xx.yy.xyz`.\n",
    "- Then it retrieves the **attributes** `aa` and `bb` from that object using `getattr()`.\n",
    "\n",
    "These attributes can be:\n",
    "- Classes, functions, or variables defined directly in `xyz`.\n",
    "- Submodules or subpackages of `xyz`, if they are explicitly exposed (e.g., by importing them in `xyz/__init__.py` or defined as files/subdirectories).\n",
    "\n",
    "Thus, any **valid attribute** of the imported module or package may be imported this way.\n"
   ]
  },
  {
   "cell_type": "markdown",
   "id": "98d0db02",
   "metadata": {},
   "source": [
    "2. Statement:\n",
    "In from xx.yy.xyz import aa, bb, the aa and bb must be either a class, a function, or a common variable. No exception, too.\n",
    "\n",
    "✅ Generally Correct, but technically too restrictive.\n",
    "In:\n",
    "\n",
    "python\n",
    "Copy\n",
    "Edit\n",
    "from xx.yy.xyz import aa, bb\n",
    "Python will first load the module or package xx.yy.xyz, and then attempt to access its attributes named aa and bb.\n",
    "\n",
    "These attributes can be:\n",
    "\n",
    "Classes\n",
    "\n",
    "Functions\n",
    "\n",
    "Variables (constants, integers, lists, etc.)\n",
    "\n",
    "Imported names\n",
    "\n",
    "Submodules or subpackages (yes!)\n",
    "\n",
    "⚠️ Example: importing a submodule from a package\n",
    "bash\n",
    "Copy\n",
    "Edit\n",
    "myproject/\n",
    "├── pkg/\n",
    "│   ├── __init__.py\n",
    "│   └── submod.py\n",
    "python\n",
    "Copy\n",
    "Edit\n",
    "# This is valid!\n",
    "from pkg import submod  # submod is a module inside the package\n",
    "Similarly:\n",
    "\n",
    "python\n",
    "Copy\n",
    "Edit\n",
    "from xx.yy.xyz import subpkg\n",
    "If subpkg is a subpackage defined in xyz, this is legal.\n",
    "\n",
    "✅ Better version of your statement:\n",
    "In from xx.yy.xyz import aa, bb, aa and bb must be valid attributes of xx.yy.xyz. These attributes may be:\n",
    "\n",
    "classes, functions, or variables defined in the module/package,\n",
    "\n",
    "or submodules and subpackages exposed via __init__.py.\n",
    "\n"
   ]
  },
  {
   "cell_type": "markdown",
   "id": "a1c14a31",
   "metadata": {},
   "source": [
    "<div style=\"font-size: 220%; color: Pink; font-weight: 600;\">🎨 6. Recommended Import Order (PEP 8)</div>\n"
   ]
  },
  {
   "cell_type": "markdown",
   "id": "8cce6271",
   "metadata": {},
   "source": [
    "<div style=\"font-family: 'Inconsolata', 'Noto Sans TC'; font-size: 125%; color: DAE8E8; font-weight: 400; line-height: 130%\">\n",
    "\n",
    "* PEP 8 advises the following **import grouping order**:\n",
    "    1. **Standard Library imports**  \n",
    "    2. **Related third-party imports**  \n",
    "    3. **Local application/library-specific imports**\n",
    "* <font color=Yellow>Each group should be separated by a blank line.</font>\n",
    "* This convention improves readability and prevents confusion between internal and external dependencies.\n"
   ]
  },
  {
   "cell_type": "markdown",
   "id": "d631dfa6",
   "metadata": {},
   "source": [
    "\n",
    "<div style=\"font-size: 160%; color: #7EDCC3; font-weight: 600;\">✅ Example</div>\n"
   ]
  },
  {
   "cell_type": "code",
   "execution_count": null,
   "id": "045ad15c",
   "metadata": {},
   "outputs": [],
   "source": [
    "import os\n",
    "import sys\n",
    "\n",
    "import numpy as np\n",
    "import requests\n",
    "\n",
    "import myproject.mymodule"
   ]
  },
  {
   "cell_type": "markdown",
   "id": "59be7d93",
   "metadata": {},
   "source": [
    "<div style=\"font-size: 220%; color: Pink; font-weight: 600;\">🧬 7. Why Does Python Import a Module Only Once?</div>\n"
   ]
  },
  {
   "cell_type": "markdown",
   "id": "449a1316",
   "metadata": {},
   "source": [
    "\n",
    "<div style=\"font-family: 'Inconsolata', 'Noto Sans TC'; font-size: 125%; color: DAE8E8; font-weight: 400; line-height: 130%\"><br>\n",
    "\n",
    "- Python uses a **module cache**: `sys.modules`.\n",
    "- Once a module is loaded, it is **not reloaded** unless explicitly requested.\n",
    "- In Jupyter or interactive environments, modules **do not auto-reload** when changed.\n"
   ]
  },
  {
   "cell_type": "markdown",
   "id": "78fab2e3",
   "metadata": {},
   "source": [
    "<div style=\"font-size: 160%; color: #7EDCC3; font-weight: 600;\">🔁 Implication in Jupyter</div>\n"
   ]
  },
  {
   "cell_type": "code",
   "execution_count": null,
   "id": "a7146ee8",
   "metadata": {},
   "outputs": [],
   "source": [
    "import mymodule  # Changes made in code won't reflect unless reloaded\n",
    "\n",
    "# Use:\n",
    "import importlib\n",
    "importlib.reload(mymodule)"
   ]
  },
  {
   "cell_type": "markdown",
   "id": "404bbc3a",
   "metadata": {},
   "source": [
    "<div style=\"font-size: 220%; color: Pink; font-weight: 600;\">🧭 8. Absolute vs. Relative Imports</div>\n"
   ]
  },
  {
   "cell_type": "markdown",
   "id": "a142932d",
   "metadata": {},
   "source": [
    "<div style=\"font-size: 160%; color: #7EDCC3; font-weight: 600;\">A. Absolute Import (recommended)</div>\n",
    "\n",
    "<div style=\"font-family: 'Inconsolata', 'Noto Sans TC'; font-size: 125%; color: DAE8E8; font-weight: 400; line-height: 130%\"><br>\n",
    "\n",
    "- Clear and unambiguous.\n",
    "- Based on the **project root**."
   ]
  },
  {
   "cell_type": "code",
   "execution_count": null,
   "id": "874f3069",
   "metadata": {},
   "outputs": [],
   "source": [
    "from mypackage.subpackage import mymodule"
   ]
  },
  {
   "cell_type": "markdown",
   "id": "1b0935d2",
   "metadata": {},
   "source": [
    "<div style=\"font-size: 160%; color: #7EDCC3; font-weight: 600;\">B. Relative Import</div>\n",
    "\n",
    "<div style=\"font-family: 'Inconsolata', 'Noto Sans TC'; font-size: 125%; color: DAE8E8; font-weight: 400; line-height: 130%\"><br>\n",
    "\n",
    "- Based on the **current module's location**.\n",
    "- Must be inside a **package**, not a script.\n",
    "- Fragile if you move files across directories."
   ]
  },
  {
   "cell_type": "code",
   "execution_count": null,
   "id": "96f83385",
   "metadata": {},
   "outputs": [],
   "source": [
    "from ..subpackage import mymodule\n",
    "from . import utils"
   ]
  },
  {
   "cell_type": "markdown",
   "id": "e42a5f89",
   "metadata": {},
   "source": [
    "<div style=\"font-size: 160%; color: #7EDCC3; font-weight: 600;\">📌 Diagram: How Python Resolves Imports</div>\n",
    "\n",
    "<div style=\"font-family: 'Inconsolata', 'Noto Sans TC'; font-size: 150%; color: DAE8E8; font-weight: 400; line-height: 130%\"><br>\n",
    "\n",
    "\n",
    "```\n",
    "[Import Issued]\n",
    "     |\n",
    "     |---> Relative? -- Yes --> Resolve via current __package__ + dots (.)\n",
    "     |                            |\n",
    "     |                         Compute absolute path\n",
    "     |                            |\n",
    "     v                            v\n",
    "[Use sys.modules or sys.path to load and cache module]\n",
    "```"
   ]
  },
  {
   "cell_type": "markdown",
   "id": "0bcb668e",
   "metadata": {},
   "source": [
    "<div style=\"font-size: 220%; color: Pink; font-weight: 600;\">🔄 9. Circular Imports: The Hidden Pitfall`</div>\n",
    "\n"
   ]
  },
  {
   "cell_type": "markdown",
   "id": "cecc95cf",
   "metadata": {},
   "source": [
    "<div style=\"font-size: 160%; color: #7EDCC3; font-weight: 600;\">☘️ Example of a Circular Import Problem</div>\n"
   ]
  },
  {
   "cell_type": "markdown",
   "id": "586cc24d",
   "metadata": {},
   "source": [
    "<div style=\"font-family: 'Inconsolata', 'Noto Sans TC'; font-size: 150%; color: DAE8E8; font-weight: 400; line-height: 130%\">\n",
    "\n",
    "```\n",
    "project/\n",
    "├── module_a.py\n",
    "├── module_b.py\n",
    "```\n"
   ]
  },
  {
   "cell_type": "code",
   "execution_count": null,
   "id": "f1501c9d",
   "metadata": {},
   "outputs": [],
   "source": [
    "# module_a.py\n",
    "from module_b import func_b\n",
    "\n",
    "def func_a():\n",
    "    func_b()\n",
    "\n",
    "# module_b.py\n",
    "from module_a import func_a  # Circular!\n",
    "\n",
    "def func_b():\n",
    "    func_a()"
   ]
  },
  {
   "cell_type": "markdown",
   "id": "64450b82",
   "metadata": {},
   "source": [
    "<div style=\"font-size: 160%; color: #7EDCC3; font-weight: 600;\">🛠️ Common Strategies to Avoid Circular Imports</div>\n",
    "\n",
    "<div style=\"font-family: 'Inconsolata', 'Noto Sans TC'; font-size: 150%; color: DAE8E8; font-weight: 400; line-height: 130%\"><br>\n",
    "\n",
    "| Strategy                    | Description |\n",
    "|----------------------------|-------------|\n",
    "| 🔁 **Local Imports**        | Import inside functions |\n",
    "| 📦 **Shared Module**        | Move shared logic to a third module |\n",
    "| 🧮 **TYPE_CHECKING Guard** | For type hints only |\n",
    "| 🧱 **Refactor Structure**   | Reorganize code to minimize tight coupling |\n",
    "\n"
   ]
  },
  {
   "cell_type": "markdown",
   "id": "05e3e815",
   "metadata": {},
   "source": [
    "<div style=\"font-size: 160%; color: #7EDCC3; font-weight: 600;\">✅ Real-world Refactoring Example</div>\n",
    "\n",
    "<div style=\"font-family: 'Inconsolata', 'Noto Sans TC'; font-size: 125%; color: DAE8E8; font-weight: 400; line-height: 130%\"><br>\n",
    "\n",
    "* Before:\n",
    "\n"
   ]
  },
  {
   "cell_type": "code",
   "execution_count": null,
   "id": "d44d1d23",
   "metadata": {},
   "outputs": [],
   "source": [
    "# module_a.py\n",
    "from module_b import get_b_value\n",
    "def get_a_value():\n",
    "    return get_b_value() + 1\n",
    "\n",
    "# module_b.py\n",
    "from module_a import get_a_value\n",
    "def get_b_value():\n",
    "    return get_a_value() + 2\n"
   ]
  },
  {
   "cell_type": "markdown",
   "id": "681618fa",
   "metadata": {},
   "source": [
    "<div style=\"font-family: 'Inconsolata', 'Noto Sans TC'; font-size: 125%; color: DAE8E8; font-weight: 400; line-height: 130%\">\n",
    "\n",
    "* After refactoring with a shared module:</div>\n",
    "<div style=\"font-family: 'Inconsolata', 'Noto Sans TC'; font-size: 150%; color: DAE8E8; font-weight: 400; line-height: 130%\">\n",
    "\n",
    "```\n",
    "project/\n",
    "├── common.py\n",
    "├── module_a.py\n",
    "├── module_b.py\n",
    "\n",
    "```\n",
    "</div>\n",
    "<div style=\"font-family: 'Inconsolata', 'Noto Sans TC'; font-size: 125%; color: DAE8E8; font-weight: 400; line-height: 130%\">\n",
    "\n",
    "* Now, both modules depend only on `common.py`, and **circular dependency is eliminated**.\n"
   ]
  },
  {
   "cell_type": "code",
   "execution_count": null,
   "id": "3af9db87",
   "metadata": {},
   "outputs": [],
   "source": [
    "# common.py\n",
    "def base_value() -> int:\n",
    "    return 42\n",
    "\n",
    "# module_a.py\n",
    "from common import base_value\n",
    "def get_a_value() -> int:\n",
    "    return base_value() + 1\n",
    "\n",
    "# module_b.py\n",
    "from common import base_value\n",
    "def get_b_value() -> int:\n",
    "    return base_value() + 2\n"
   ]
  },
  {
   "cell_type": "markdown",
   "id": "c33ebaf5",
   "metadata": {},
   "source": [
    "<div style=\"font-size: 220%; color: Pink; font-weight: 600;\">🧱 9. Advanced Topics</div>\n"
   ]
  },
  {
   "cell_type": "markdown",
   "id": "963d0bdd",
   "metadata": {},
   "source": [
    "<div style=\"font-size: 160%; color: #7EDCC3; font-weight: 600;\">🔖 A. `__name__ == \"__main__\"` and Script Entry Points</div>\n",
    "\n",
    "<div style=\"font-family: 'Inconsolata', 'Noto Sans TC'; font-size: 125%; color: DAE8E8; font-weight: 400; line-height: 130%\"><br>\n",
    "\n",
    "* Explain how Python determines whether a file is being run directly or imported.\n",
    "    - Enables a module to serve as both reusable library and standalone script.\n"
   ]
  },
  {
   "cell_type": "code",
   "execution_count": null,
   "id": "9934dab9",
   "metadata": {},
   "outputs": [],
   "source": [
    "def main():\n",
    "    print(\"Running as main script\")\n",
    "\n",
    "if __name__ == \"__main__\":\n",
    "    main()"
   ]
  },
  {
   "cell_type": "markdown",
   "id": "27ed98c9",
   "metadata": {},
   "source": [
    "<div style=\"font-size: 160%; color: #7EDCC3; font-weight: 600;\">📦 B. The Role of `__init__.py`</div>\n",
    "\n",
    "<div style=\"font-family: 'Inconsolata', 'Noto Sans TC'; font-size: 125%; color: DAE8E8; font-weight: 400; line-height: 130%\"><br>\n",
    "\n",
    "- In Python 3.3+, namespace packages no longer require `__init__.py`, but its presence still:\n",
    "  - Declares intent.\n",
    "  - Allows initialization logic.\n",
    "  - Helps static analyzers and tools.\n",
    "\n"
   ]
  },
  {
   "cell_type": "markdown",
   "id": "841b8e70",
   "metadata": {},
   "source": [
    "<div style=\"font-size: 160%; color: #7EDCC3; font-weight: 600;\">🧪 C. Dynamic Imports (`__import__()` and `importlib`)</div>\n",
    "\n",
    "<div style=\"font-family: 'Inconsolata', 'Noto Sans TC'; font-size: 125%; color: DAE8E8; font-weight: 400; line-height: 130%\"><br>\n",
    "\n",
    "* Useful in:\n",
    "    - Plugin systems\n",
    "    - Configuration-based loading\n",
    "    - Meta-programming\n"
   ]
  },
  {
   "cell_type": "code",
   "execution_count": null,
   "id": "8948bc91",
   "metadata": {},
   "outputs": [],
   "source": [
    "mod = __import__(\"math\")\n",
    "import importlib\n",
    "mymodule = importlib.import_module(\"mypackage.module\")\n"
   ]
  },
  {
   "cell_type": "markdown",
   "id": "72faee49",
   "metadata": {},
   "source": [
    "<div style=\"font-size: 160%; color: #7EDCC3; font-weight: 600;\">🧯 D. Lazy Imports and Performance (PEP 690)</div>\n",
    "\n",
    "<div style=\"font-family: 'Inconsolata', 'Noto Sans TC'; font-size: 125%; color: DAE8E8; font-weight: 400; line-height: 130%\"><br>\n",
    "\n",
    "* Python 3.12 introduced **lazy imports** with:\n",
    "    * Good for large applications and startup performance optimization."
   ]
  },
  {
   "cell_type": "code",
   "execution_count": null,
   "id": "1b26c28d",
   "metadata": {},
   "outputs": [],
   "source": [
    "__lazy__ = True\n",
    "\n",
    "# Also manually:\n",
    "\n",
    "import importlib.util\n"
   ]
  },
  {
   "cell_type": "markdown",
   "id": "c9af4aed",
   "metadata": {},
   "source": [
    "<div style=\"font-size: 160%; color: #7EDCC3; font-weight: 600;\">🔍 E. `sys.path` and Import Search Path</div>\n",
    "\n",
    "<div style=\"font-family: 'Inconsolata', 'Noto Sans TC'; font-size: 125%; color: DAE8E8; font-weight: 400; line-height: 130%\"><br>\n",
    "\n",
    "- Python searches modules using the paths in `sys.path`.\n",
    "- You may append custom paths, but avoid doing so unless necessary.\n"
   ]
  },
  {
   "cell_type": "code",
   "execution_count": null,
   "id": "a398bb7a",
   "metadata": {},
   "outputs": [],
   "source": [
    "import sys\n",
    "print(sys.path)\n"
   ]
  },
  {
   "cell_type": "markdown",
   "id": "5e020150",
   "metadata": {},
   "source": [
    "<div style=\"font-size: 160%; color: #7EDCC3; font-weight: 600;\">🎣 F. Import Hooks and Custom Loaders (Advanced)</div>\n",
    "\n",
    "<div style=\"font-family: 'Inconsolata', 'Noto Sans TC'; font-size: 125%; color: DAE8E8; font-weight: 400; line-height: 130%\"><br>\n",
    "\n",
    "- Via `sys.meta_path`, `sys.path_hooks`\n",
    "- For virtual modules, dependency tracing, or loading encrypted files\n",
    "\n"
   ]
  },
  {
   "cell_type": "markdown",
   "id": "f8e6b116",
   "metadata": {},
   "source": [
    "<div style=\"font-size: 160%; color: #7EDCC3; font-weight: 600;\">🧪 G. Mocking Imports in Unit Tests</div>\n",
    "\n",
    "<div style=\"font-family: 'Inconsolata', 'Noto Sans TC'; font-size: 125%; color: DAE8E8; font-weight: 400; line-height: 130%\"><br>\n",
    "\n",
    "- Replace actual imports with mocks during tests.\n",
    "\n"
   ]
  },
  {
   "cell_type": "code",
   "execution_count": null,
   "id": "5bea7840",
   "metadata": {},
   "outputs": [],
   "source": [
    "from unittest.mock import patch\n",
    "\n",
    "with patch(\"external.api.fetch\", return_value={\"mock\": True}):\n",
    "    ...\n"
   ]
  },
  {
   "cell_type": "markdown",
   "id": "d8364da2",
   "metadata": {},
   "source": [
    "<div style=\"font-size: 220%; color: Pink; font-weight: 600;\">🧠 10. Conceptual Reflection</div>\n",
    "\n"
   ]
  },
  {
   "cell_type": "markdown",
   "id": "643e45d5",
   "metadata": {},
   "source": [
    "<div style=\"font-size: 160%; color: #7EDCC3; font-weight: 600;\">🧭 Python vs. Other Languages</div>\n",
    "\n",
    "<div style=\"font-family: 'Inconsolata', 'Noto Sans TC'; font-size: 125%; color: DAE8E8; font-weight: 400; line-height: 150%\"><br>\n",
    "\n",
    "| Language | Import Mechanism | Comment |\n",
    "|----------|------------------|---------|\n",
    "| C        | `#include`       | Preprocessor-level |\n",
    "| Java     | `import java.util.*;` | Compile-time only |\n",
    "| JavaScript | `import X from \"...\"` | ES modules; asynchronous |\n",
    "| Python   | `import module`  | Runtime-based; flexible |\n",
    "</div>\n",
    "\n",
    "<div style=\"font-family: 'Inconsolata', 'Noto Sans TC'; font-size: 125%; color: DAE8E8; font-weight: 400; line-height: 130%\"></div><br>\n",
    "\n",
    "<div style=\"font-family: 'Inconsolata', 'Noto Sans TC'; font-size: 125%; color: DAE8E8; font-weight: 400; line-height: 130%\">\n",
    "\n",
    "Python's runtime import is powerful but can introduce dynamic resolution issues.\n",
    "\n"
   ]
  },
  {
   "cell_type": "markdown",
   "id": "0a831dc9",
   "metadata": {},
   "source": [
    "<div style=\"font-size: 220%; color: Pink; font-weight: 600;\">🧪 11. Quizzes</div>\n"
   ]
  },
  {
   "cell_type": "markdown",
   "id": "9bad285e",
   "metadata": {},
   "source": [
    "<div style=\"font-family: 'Inconsolata', 'Noto Sans TC'; font-size: 150%; color: DAE8E8; font-weight: 400; line-height: 130%\">\n",
    "\n",
    "Q1. Which of the following is NOT a valid import in Python?\n",
    "\n",
    "    A. import math\n",
    "    B. from math import sqrt\n",
    "    C. import math.sqrt \n",
    "    D. from math import *\n",
    "    E. import os\n",
    "    F. from datetime import datetime\n",
    "\n",
    "<!-- > ✅ **Answer:** C -->\n",
    "\n"
   ]
  },
  {
   "cell_type": "markdown",
   "id": "744c63dc",
   "metadata": {},
   "source": [
    "<div style=\"font-family: 'Inconsolata', 'Noto Sans TC'; font-size: 150%; color: DAE8E8; font-weight: 400; line-height: 130%\">\n",
    "\n",
    "Q2. What is the effect of running `import this` in Python?\n",
    "\n",
    "    A. Imports a string library  \n",
    "    B. Launches a game  \n",
    "    C. Import current module\n",
    "    D. Imports nothing and raises an error\n",
    "    E. Import current package\n",
    "    F. Prints the Zen of Python  \n",
    "\n",
    "<!-- > ✅ **Answer:** F -->\n",
    "\n"
   ]
  },
  {
   "cell_type": "markdown",
   "id": "a13ce27f",
   "metadata": {},
   "source": [
    "<div style=\"font-family: 'Inconsolata', 'Noto Sans TC'; font-size: 150%; color: DAE8E8; font-weight: 400; line-height: 130%\">\n",
    "\n",
    "Q3. Which of the following statements about relative imports is TRUE?\n",
    "\n",
    "    A. Relative imports work in any script, regardless of directory  \n",
    "    B. You must run the script using `-m` for relative imports\n",
    "    C. Relative imports are preferred over absolute imports in all cases\n",
    "    D. Imported modules do not necessarily exist\n",
    "    E. You must use relative imports in an .ipynb file\n",
    "    F. You can use relative imports in modules that are not in packages  \n",
    "\n",
    "<!-- > ✅ **Answer:** B -->\n",
    "\n"
   ]
  },
  {
   "cell_type": "markdown",
   "id": "467c92f1",
   "metadata": {},
   "source": [
    "<div style=\"font-family: 'Inconsolata', 'Noto Sans TC'; font-size: 150%; color: DAE8E8; font-weight: 400; line-height: 130%\">\n",
    "\n",
    "Q4. How does Python ensure a module is only loaded once?\n",
    "\n",
    "    A. It locks the file after loading  \n",
    "    B. It kills the module after loading\n",
    "    C. It appends the module to `sys.path`  \n",
    "    D. It freezes the module in memory\n",
    "    E. It stores the result in `sys.modules`  \n",
    "    F. No, a module will be loaded again once it is called\n",
    "\n",
    "<!-- > ✅ **Answer:** E -->\n",
    "\n"
   ]
  },
  {
   "cell_type": "markdown",
   "id": "a4a2cc32",
   "metadata": {},
   "source": [
    "<div style=\"font-family: 'Inconsolata', 'Noto Sans TC'; font-size: 150%; color: DAE8E8; font-weight: 400; line-height: 130%\">\n",
    "\n",
    "Q5. Which strategy is NOT recommended to fix circular imports?\n",
    "\n",
    "    A. Use a shared module  \n",
    "    B. Use local imports  \n",
    "    C. Refactor your program\n",
    "    D. Use `from module import *`  \n",
    "    E. Restructure your packages\n",
    "    F. None of the above(以上皆非)\n",
    "\n",
    "<!-- > ✅ **Answer:** D -->\n",
    "\n"
   ]
  },
  {
   "cell_type": "markdown",
   "id": "10e1584b",
   "metadata": {},
   "source": [
    "<div style=\"font-size: 220%; color: Pink; font-weight: 600;\">🏁 Conclusion</div>\n"
   ]
  },
  {
   "cell_type": "markdown",
   "id": "4feb5d91",
   "metadata": {},
   "source": [
    "<div style=\"font-family: 'Inconsolata', 'Noto Sans TC'; font-size: 125%; color: DAE8E8; font-weight: 400; line-height: 130%\">\n",
    "\n",
    "* Understanding Python's import mechanism is critical for:\n",
    "    - Writing modular and maintainable code\n",
    "    - Avoiding hard-to-detect runtime errors\n",
    "    - Working effectively in complex package hierarchies\n"
   ]
  },
  {
   "cell_type": "markdown",
   "id": "f49721d0",
   "metadata": {},
   "source": [
    "<div style=\"font-size: 160%; color: #7EDCC3; font-weight: 600;\">🧾 Best Practices Summary</div>\n",
    "<br>\n",
    "<div style=\"font-family: 'Inconsolata', 'Noto Sans TC'; font-size: 125%; color: DAE8E8; font-weight: 400; line-height: 130%\">\n",
    "\n",
    "- ✅ Prefer **absolute imports**\n",
    "- ✅ Use **relative imports** only within tightly-coupled packages\n",
    "- ✅ Avoid `from ... import *`\n",
    "- ✅ Follow **PEP 8 import grouping**\n",
    "- ✅ Be mindful of `sys.modules` and Jupyter side effects\n",
    "- ✅ Refactor code to eliminate **circular dependencies**\n",
    "- ✅ Use `importlib.reload` if needed\n",
    "- ✅ Consider performance when importing large or optional modules\n",
    "\n"
   ]
  },
  {
   "cell_type": "markdown",
   "id": "56e00fe6",
   "metadata": {},
   "source": [
    "<div style=\"font-family: 'Inconsolata', 'Noto Sans TC'; font-size: 135%; color: DAE8E8; font-weight: 600; line-height: 150%\">\n",
    "\n",
    "* Prepared by: **Alex Van** (with the assist of ChatGPT) \n",
    "* Date: 2025-05-20\n"
   ]
  },
  {
   "cell_type": "markdown",
   "id": "a6762060",
   "metadata": {},
   "source": [
    "<div style=\"text-align:center\"><img src=\"./images/Happy Importing.png\" width=\"750\"/></div>\n",
    "<br><br>"
   ]
  },
  {
   "cell_type": "code",
   "execution_count": null,
   "id": "6e684e83",
   "metadata": {},
   "outputs": [],
   "source": [
    "{\"parent_dynamic_range_sq_cids\": [4, 12, 15]; \"child_dynamic_range_sq_cids\" = [6, 14, 14]}"
   ]
  }
 ],
 "metadata": {
  "kernelspec": {
   "display_name": "Python 3",
   "language": "python",
   "name": "python3"
  },
  "language_info": {
   "codemirror_mode": {
    "name": "ipython",
    "version": 3
   },
   "file_extension": ".py",
   "mimetype": "text/x-python",
   "name": "python",
   "nbconvert_exporter": "python",
   "pygments_lexer": "ipython3",
   "version": "3.13.3"
  }
 },
 "nbformat": 4,
 "nbformat_minor": 5
}
